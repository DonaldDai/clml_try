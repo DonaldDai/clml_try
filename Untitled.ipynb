{
 "cells": [
  {
   "cell_type": "code",
   "execution_count": 31,
   "id": "c7005426",
   "metadata": {},
   "outputs": [
    {
     "name": "stdout",
     "output_type": "stream",
     "text": [
      "ClearML results page: http://167.86.107.213:8080/projects/dd9ca1c5213647988bf82dd9e636df44/experiments/900930a64539416b9d8d83d90ab28702/output/log\n",
      "ClearML dataset page: http://167.86.107.213:8080/datasets/simple/dd9ca1c5213647988bf82dd9e636df44/experiments/900930a64539416b9d8d83d90ab28702\n",
      "Uploading dataset changes (2 files compressed to 109.13 KiB) to http://167.86.107.213:8081\n",
      "File compression and upload completed: total size 109.13 KiB, 1 chunk(s) stored (average size 109.13 KiB)\n"
     ]
    },
    {
     "data": {
      "text/plain": [
       "True"
      ]
     },
     "execution_count": 31,
     "metadata": {},
     "output_type": "execute_result"
    }
   ],
   "source": [
    "from clearml import Dataset\n",
    "dataset = Dataset.create(\n",
    "    dataset_name='coq',\n",
    "    dataset_project='paper', \n",
    "    description='coq train & val data'\n",
    ")\n",
    "dataset.add_files(path=f'/home/yichao/zhilian/ReinventCommunity/concatenate_method/train.csv')\n",
    "dataset.add_files(path=f'/home/yichao/zhilian/ReinventCommunity/concatenate_method/val.csv')\n",
    "dataset.upload()\n",
    "dataset.finalize()"
   ]
  },
  {
   "cell_type": "code",
   "execution_count": 6,
   "id": "6bbb392e",
   "metadata": {},
   "outputs": [
    {
     "data": {
      "text/plain": [
       "True"
      ]
     },
     "execution_count": 6,
     "metadata": {},
     "output_type": "execute_result"
    }
   ],
   "source": [
    "dataset.finalize()"
   ]
  },
  {
   "cell_type": "code",
   "execution_count": 7,
   "id": "421fc11c",
   "metadata": {},
   "outputs": [
    {
     "data": {
      "text/plain": [
       "True"
      ]
     },
     "execution_count": 7,
     "metadata": {},
     "output_type": "execute_result"
    }
   ],
   "source": [
    "dataset.publish()"
   ]
  },
  {
   "cell_type": "code",
   "execution_count": 2,
   "id": "adcaa750",
   "metadata": {},
   "outputs": [],
   "source": [
    "Dataset.move_to_project(\n",
    "  new_dataset_project=\"paper\",\n",
    "  dataset_project=\"dataset project\", \n",
    "  dataset_name=\"coq\",  \n",
    ")"
   ]
  },
  {
   "cell_type": "code",
   "execution_count": 4,
   "id": "853227df",
   "metadata": {},
   "outputs": [],
   "source": [
    "Dataset.delete(\n",
    "  dataset_id=None,\n",
    "  dataset_project=\"paper\",\n",
    "  dataset_name=\"coq\", \n",
    "  force=False,\n",
    "  entire_dataset=False\n",
    ") "
   ]
  },
  {
   "cell_type": "code",
   "execution_count": 59,
   "id": "79c2535e",
   "metadata": {},
   "outputs": [
    {
     "name": "stdout",
     "output_type": "stream",
     "text": [
      "/home/yichao/.clearml/cache/storage_manager/datasets/ds_345aa869de7e408888904002afef47b6\n"
     ]
    }
   ],
   "source": [
    "data = Dataset.get(\n",
    "        dataset_id=None,  \n",
    "        dataset_project=\"paper\",\n",
    "        dataset_name=\"coq\",\n",
    "        only_completed=True, \n",
    "        only_published=False, \n",
    ")\n",
    "d_copy = data.get_local_copy()\n",
    "print(d_copy)"
   ]
  },
  {
   "cell_type": "code",
   "execution_count": 47,
   "id": "bb412277",
   "metadata": {},
   "outputs": [
    {
     "data": {
      "text/plain": [
       "str"
      ]
     },
     "execution_count": 47,
     "metadata": {},
     "output_type": "execute_result"
    }
   ],
   "source": [
    "type(d_copy)"
   ]
  },
  {
   "cell_type": "code",
   "execution_count": 48,
   "id": "40d39985",
   "metadata": {},
   "outputs": [
    {
     "name": "stdout",
     "output_type": "stream",
     "text": [
      "         ID                                             SMILES  AV_Bit  AV\n",
      "0   coq_938                  O=C1CCS(=O)(=O)C(N1C)c2ccc(Cl)cc2       0 NaN\n",
      "1  coq_3528  Nc1nc(F)nc2n(cnc12)[C@@H]3O[C@H](COP(O)(O)=O)[...       0 NaN\n",
      "2  coq_1831                    Cl.CC(CNC1CCCCC1)OC(=O)c2ccccc2       0 NaN\n",
      "3  coq_1198                       O=C(N)OCC(C)(COC(=O)N)C(C)CC       0 NaN\n",
      "4  coq_1641                O=S(=O)(Nc1nnc(s1)C(C)(C)C)c2ccccc2       0 NaN\n",
      "        ID                                             SMILES  AV_Bit  AV\n",
      "0    coq_2                CN1CCN(CC1)C2=Nc4ccccc4Nc3sc(C)cc23       0 NaN\n",
      "1   coq_23                                    CCCC(CCC)C(O)=O       0 NaN\n",
      "2   coq_37                   [O-][n+]2ccccc2SSc1cccc[n+]1[O-]       0 NaN\n",
      "3   coq_67                       S=C(SSC(=S)N1CCCCC1)N2CCCCC2       0 NaN\n",
      "4  coq_100  Clc1ccc(cc1)C(=O)n3c2ccc(cc2c(CC(=O)OCC(=O)O)c...       0 NaN\n"
     ]
    }
   ],
   "source": [
    "import pandas as pd\n",
    "train = pd.read_csv(f'{d_copy}/train.csv')\n",
    "val = pd.read_csv(f'{d_copy}/val.csv')\n",
    "print(train.head())\n",
    "print(val.head())"
   ]
  },
  {
   "cell_type": "code",
   "execution_count": 49,
   "id": "2ae3b0a0",
   "metadata": {},
   "outputs": [
    {
     "name": "stdout",
     "output_type": "stream",
     "text": [
      "ClearML Task: created new task id=29dad6715ae04a1c89e80591d8af6866\n",
      "ClearML results page: http://167.86.107.213:8080/projects/ab20f9ddc8044c8fae389cd00df61d85/experiments/29dad6715ae04a1c89e80591d8af6866/output/log\n"
     ]
    },
    {
     "data": {
      "text/plain": [
       "True"
      ]
     },
     "execution_count": 49,
     "metadata": {},
     "output_type": "execute_result"
    }
   ],
   "source": [
    "from clearml import Task\n",
    "task = Task.init(project_name='paper', task_name='upload_art')\n",
    "task.upload_artifact('train', train)\n",
    "task.upload_artifact('val', val)"
   ]
  },
  {
   "cell_type": "code",
   "execution_count": 50,
   "id": "b7246d36",
   "metadata": {},
   "outputs": [],
   "source": [
    "task.close()"
   ]
  },
  {
   "cell_type": "code",
   "execution_count": 51,
   "id": "e1445916",
   "metadata": {},
   "outputs": [
    {
     "name": "stdout",
     "output_type": "stream",
     "text": [
      "[<clearml.task.Task object at 0x7f57d54bbf10>, <clearml.task.Task object at 0x7f58f85c9d50>]\n"
     ]
    }
   ],
   "source": [
    "task = Task.get_tasks(project_name='paper', task_name='upload_art')\n",
    "print(task)"
   ]
  },
  {
   "cell_type": "code",
   "execution_count": 16,
   "id": "598b1b37",
   "metadata": {},
   "outputs": [
    {
     "data": {
      "text/plain": [
       "list"
      ]
     },
     "execution_count": 16,
     "metadata": {},
     "output_type": "execute_result"
    }
   ],
   "source": [
    "type(task)"
   ]
  },
  {
   "cell_type": "code",
   "execution_count": 57,
   "id": "0e716951",
   "metadata": {},
   "outputs": [
    {
     "name": "stdout",
     "output_type": "stream",
     "text": [
      "'http://167.86.107.213:8081/paper/upload_art.29dad6715ae04a1c89e80591d8af6866/artifacts/train/train.csv.gz'\n",
      "'http://167.86.107.213:8081/paper/upload_art.29dad6715ae04a1c89e80591d8af6866/artifacts/val/val.csv.gz'\n"
     ]
    }
   ],
   "source": [
    "from pprint import pprint\n",
    "pprint(task[-1].artifacts.get('train').url)\n",
    "pprint(task[-1].artifacts.get('val').url)"
   ]
  },
  {
   "cell_type": "code",
   "execution_count": 28,
   "id": "b31cfc38",
   "metadata": {},
   "outputs": [
    {
     "data": {
      "text/plain": [
       "pandas.core.frame.DataFrame"
      ]
     },
     "execution_count": 28,
     "metadata": {},
     "output_type": "execute_result"
    }
   ],
   "source": [
    "task[0].artifacts.get('train')."
   ]
  },
  {
   "cell_type": "code",
   "execution_count": 45,
   "id": "0aff2f94",
   "metadata": {},
   "outputs": [
    {
     "data": {
      "text/html": [
       "<div>\n",
       "<style scoped>\n",
       "    .dataframe tbody tr th:only-of-type {\n",
       "        vertical-align: middle;\n",
       "    }\n",
       "\n",
       "    .dataframe tbody tr th {\n",
       "        vertical-align: top;\n",
       "    }\n",
       "\n",
       "    .dataframe thead th {\n",
       "        text-align: right;\n",
       "    }\n",
       "</style>\n",
       "<table border=\"1\" class=\"dataframe\">\n",
       "  <thead>\n",
       "    <tr style=\"text-align: right;\">\n",
       "      <th></th>\n",
       "    </tr>\n",
       "  </thead>\n",
       "  <tbody>\n",
       "  </tbody>\n",
       "</table>\n",
       "</div>"
      ],
      "text/plain": [
       "Empty DataFrame\n",
       "Columns: []\n",
       "Index: []"
      ]
     },
     "execution_count": 45,
     "metadata": {},
     "output_type": "execute_result"
    }
   ],
   "source": [
    "test = pd.DataFrame()\n",
    "test.head()"
   ]
  },
  {
   "cell_type": "code",
   "execution_count": 43,
   "id": "ff41d813",
   "metadata": {},
   "outputs": [
    {
     "name": "stdout",
     "output_type": "stream",
     "text": [
      "/home/yichao/.clearml/cache/storage_manager/global/4f1233eb022cc1033c100bd0f39f10ed.train.csv.gz\n",
      "   Unnamed: 0        ID                                             SMILES  AV_Bit  AV\n",
      "0           0   coq_938                  O=C1CCS(=O)(=O)C(N1C)c2ccc(Cl)cc2       0 NaN\n",
      "1           1  coq_3528  Nc1nc(F)nc2n(cnc12)[C@@H]3O[C@H](COP(O)(O)=O)[...       0 NaN\n",
      "2           2  coq_1831                    Cl.CC(CNC1CCCCC1)OC(=O)c2ccccc2       0 NaN\n",
      "3           3  coq_1198                       O=C(N)OCC(C)(COC(=O)N)C(C)CC       0 NaN\n",
      "4           4  coq_1641                O=S(=O)(Nc1nnc(s1)C(C)(C)C)c2ccccc2       0 NaN\n"
     ]
    }
   ],
   "source": [
    "from clearml import StorageManager\n",
    "import pandas as pd\n",
    "path = StorageManager.get_local_copy('http://167.86.107.213:8081/paper/upload_art.e58fdbc23672452885a8c4210d76684c/artifacts/train/train.csv.gz')\n",
    "print(path)\n",
    "df = pd.read_csv(path, compression='gzip')\n",
    "print(df.head())"
   ]
  },
  {
   "cell_type": "code",
   "execution_count": 30,
   "id": "dc3020c7",
   "metadata": {},
   "outputs": [
    {
     "ename": "HTTPError",
     "evalue": "401 Client Error: UNAUTHORIZED for url: http://167.86.107.213:8081/paper/upload_art.e58fdbc23672452885a8c4210d76684c/artifacts/train/train.csv.gz",
     "output_type": "error",
     "traceback": [
      "\u001b[0;31m---------------------------------------------------------------------------\u001b[0m",
      "\u001b[0;31mHTTPError\u001b[0m                                 Traceback (most recent call last)",
      "\u001b[0;32m/tmp/ipykernel_1846769/4023571613.py\u001b[0m in \u001b[0;36m<module>\u001b[0;34m\u001b[0m\n\u001b[1;32m      4\u001b[0m \u001b[0;31m# 使用requests获取数据\u001b[0m\u001b[0;34m\u001b[0m\u001b[0;34m\u001b[0m\u001b[0;34m\u001b[0m\u001b[0m\n\u001b[1;32m      5\u001b[0m \u001b[0mresponse\u001b[0m \u001b[0;34m=\u001b[0m \u001b[0mrequests\u001b[0m\u001b[0;34m.\u001b[0m\u001b[0mget\u001b[0m\u001b[0;34m(\u001b[0m\u001b[0murl\u001b[0m\u001b[0;34m)\u001b[0m\u001b[0;34m\u001b[0m\u001b[0;34m\u001b[0m\u001b[0m\n\u001b[0;32m----> 6\u001b[0;31m \u001b[0mresponse\u001b[0m\u001b[0;34m.\u001b[0m\u001b[0mraise_for_status\u001b[0m\u001b[0;34m(\u001b[0m\u001b[0;34m)\u001b[0m  \u001b[0;31m# 确保请求成功\u001b[0m\u001b[0;34m\u001b[0m\u001b[0;34m\u001b[0m\u001b[0m\n\u001b[0m\u001b[1;32m      7\u001b[0m \u001b[0;34m\u001b[0m\u001b[0m\n\u001b[1;32m      8\u001b[0m \u001b[0;31m# 使用gzip解压数据\u001b[0m\u001b[0;34m\u001b[0m\u001b[0;34m\u001b[0m\u001b[0;34m\u001b[0m\u001b[0m\n",
      "\u001b[0;32m~/dev_tools/miniconda3/envs/ReinventCommunity/lib/python3.7/site-packages/requests/models.py\u001b[0m in \u001b[0;36mraise_for_status\u001b[0;34m(self)\u001b[0m\n\u001b[1;32m   1019\u001b[0m \u001b[0;34m\u001b[0m\u001b[0m\n\u001b[1;32m   1020\u001b[0m         \u001b[0;32mif\u001b[0m \u001b[0mhttp_error_msg\u001b[0m\u001b[0;34m:\u001b[0m\u001b[0;34m\u001b[0m\u001b[0;34m\u001b[0m\u001b[0m\n\u001b[0;32m-> 1021\u001b[0;31m             \u001b[0;32mraise\u001b[0m \u001b[0mHTTPError\u001b[0m\u001b[0;34m(\u001b[0m\u001b[0mhttp_error_msg\u001b[0m\u001b[0;34m,\u001b[0m \u001b[0mresponse\u001b[0m\u001b[0;34m=\u001b[0m\u001b[0mself\u001b[0m\u001b[0;34m)\u001b[0m\u001b[0;34m\u001b[0m\u001b[0;34m\u001b[0m\u001b[0m\n\u001b[0m\u001b[1;32m   1022\u001b[0m \u001b[0;34m\u001b[0m\u001b[0m\n\u001b[1;32m   1023\u001b[0m     \u001b[0;32mdef\u001b[0m \u001b[0mclose\u001b[0m\u001b[0;34m(\u001b[0m\u001b[0mself\u001b[0m\u001b[0;34m)\u001b[0m\u001b[0;34m:\u001b[0m\u001b[0;34m\u001b[0m\u001b[0;34m\u001b[0m\u001b[0m\n",
      "\u001b[0;31mHTTPError\u001b[0m: 401 Client Error: UNAUTHORIZED for url: http://167.86.107.213:8081/paper/upload_art.e58fdbc23672452885a8c4210d76684c/artifacts/train/train.csv.gz"
     ]
    }
   ],
   "source": [
    "import requests\n",
    "url = task[0].artifacts.get('train').url\n",
    "\n",
    "# 使用requests获取数据\n",
    "response = requests.get(url)\n",
    "response.raise_for_status()  # 确保请求成功\n",
    "\n",
    "# 使用gzip解压数据\n",
    "gzip_file = gzip.GzipFile(fileobj=BytesIO(response.content))\n",
    "\n",
    "# 读取解压后的CSV数据到DataFrame\n",
    "df = pd.read_csv(gzip_file)\n",
    "\n",
    "# 显示DataFrame的内容\n",
    "print(type(df))\n",
    "print(df.head())"
   ]
  },
  {
   "cell_type": "code",
   "execution_count": 32,
   "id": "e95973e1",
   "metadata": {},
   "outputs": [
    {
     "name": "stdout",
     "output_type": "stream",
     "text": [
      "<class 'pandas.core.frame.DataFrame'>\n"
     ]
    },
    {
     "name": "stderr",
     "output_type": "stream",
     "text": [
      "/home/yichao/dev_tools/miniconda3/envs/ReinventCommunity/lib/python3.7/importlib/_bootstrap.py:219: RuntimeWarning: numpy.ufunc size changed, may indicate binary incompatibility. Expected 192 from C header, got 216 from PyObject\n",
      "  return f(*args, **kwds)\n",
      "/home/yichao/dev_tools/miniconda3/envs/ReinventCommunity/lib/python3.7/importlib/_bootstrap.py:219: RuntimeWarning: numpy.ufunc size changed, may indicate binary incompatibility. Expected 192 from C header, got 216 from PyObject\n",
      "  return f(*args, **kwds)\n",
      "/home/yichao/dev_tools/miniconda3/envs/ReinventCommunity/lib/python3.7/importlib/_bootstrap.py:219: RuntimeWarning: numpy.ufunc size changed, may indicate binary incompatibility. Expected 192 from C header, got 216 from PyObject\n",
      "  return f(*args, **kwds)\n",
      "/home/yichao/dev_tools/miniconda3/envs/ReinventCommunity/lib/python3.7/importlib/_bootstrap.py:219: RuntimeWarning: numpy.ufunc size changed, may indicate binary incompatibility. Expected 192 from C header, got 216 from PyObject\n",
      "  return f(*args, **kwds)\n",
      "/home/yichao/dev_tools/miniconda3/envs/ReinventCommunity/lib/python3.7/importlib/_bootstrap.py:219: RuntimeWarning: numpy.ufunc size changed, may indicate binary incompatibility. Expected 192 from C header, got 216 from PyObject\n",
      "  return f(*args, **kwds)\n"
     ]
    },
    {
     "name": "stdout",
     "output_type": "stream",
     "text": [
      "<class 'sklearn.svm.classes.LinearSVC'>\n"
     ]
    },
    {
     "name": "stderr",
     "output_type": "stream",
     "text": [
      "/home/yichao/dev_tools/miniconda3/envs/ReinventCommunity/lib/python3.7/site-packages/sklearn/linear_model/least_angle.py:30: DeprecationWarning: `np.float` is a deprecated alias for the builtin `float`. To silence this warning, use `float` by itself. Doing this will not modify any behavior and is safe. If you specifically wanted the numpy scalar type, use `np.float64` here.\n",
      "Deprecated in NumPy 1.20; for more details and guidance: https://numpy.org/devdocs/release/1.20.0-notes.html#deprecations\n",
      "  method='lar', copy_X=True, eps=np.finfo(np.float).eps,\n",
      "/home/yichao/dev_tools/miniconda3/envs/ReinventCommunity/lib/python3.7/site-packages/sklearn/linear_model/least_angle.py:167: DeprecationWarning: `np.float` is a deprecated alias for the builtin `float`. To silence this warning, use `float` by itself. Doing this will not modify any behavior and is safe. If you specifically wanted the numpy scalar type, use `np.float64` here.\n",
      "Deprecated in NumPy 1.20; for more details and guidance: https://numpy.org/devdocs/release/1.20.0-notes.html#deprecations\n",
      "  method='lar', copy_X=True, eps=np.finfo(np.float).eps,\n",
      "/home/yichao/dev_tools/miniconda3/envs/ReinventCommunity/lib/python3.7/site-packages/sklearn/linear_model/least_angle.py:284: DeprecationWarning: `np.float` is a deprecated alias for the builtin `float`. To silence this warning, use `float` by itself. Doing this will not modify any behavior and is safe. If you specifically wanted the numpy scalar type, use `np.float64` here.\n",
      "Deprecated in NumPy 1.20; for more details and guidance: https://numpy.org/devdocs/release/1.20.0-notes.html#deprecations\n",
      "  eps=np.finfo(np.float).eps, copy_Gram=True, verbose=0,\n",
      "/home/yichao/dev_tools/miniconda3/envs/ReinventCommunity/lib/python3.7/site-packages/sklearn/linear_model/least_angle.py:862: DeprecationWarning: `np.float` is a deprecated alias for the builtin `float`. To silence this warning, use `float` by itself. Doing this will not modify any behavior and is safe. If you specifically wanted the numpy scalar type, use `np.float64` here.\n",
      "Deprecated in NumPy 1.20; for more details and guidance: https://numpy.org/devdocs/release/1.20.0-notes.html#deprecations\n",
      "  eps=np.finfo(np.float).eps, copy_X=True, fit_path=True,\n",
      "/home/yichao/dev_tools/miniconda3/envs/ReinventCommunity/lib/python3.7/site-packages/sklearn/linear_model/least_angle.py:1101: DeprecationWarning: `np.float` is a deprecated alias for the builtin `float`. To silence this warning, use `float` by itself. Doing this will not modify any behavior and is safe. If you specifically wanted the numpy scalar type, use `np.float64` here.\n",
      "Deprecated in NumPy 1.20; for more details and guidance: https://numpy.org/devdocs/release/1.20.0-notes.html#deprecations\n",
      "  eps=np.finfo(np.float).eps, copy_X=True, fit_path=True,\n",
      "/home/yichao/dev_tools/miniconda3/envs/ReinventCommunity/lib/python3.7/site-packages/sklearn/linear_model/least_angle.py:1127: DeprecationWarning: `np.float` is a deprecated alias for the builtin `float`. To silence this warning, use `float` by itself. Doing this will not modify any behavior and is safe. If you specifically wanted the numpy scalar type, use `np.float64` here.\n",
      "Deprecated in NumPy 1.20; for more details and guidance: https://numpy.org/devdocs/release/1.20.0-notes.html#deprecations\n",
      "  eps=np.finfo(np.float).eps, positive=False):\n",
      "/home/yichao/dev_tools/miniconda3/envs/ReinventCommunity/lib/python3.7/site-packages/sklearn/linear_model/least_angle.py:1362: DeprecationWarning: `np.float` is a deprecated alias for the builtin `float`. To silence this warning, use `float` by itself. Doing this will not modify any behavior and is safe. If you specifically wanted the numpy scalar type, use `np.float64` here.\n",
      "Deprecated in NumPy 1.20; for more details and guidance: https://numpy.org/devdocs/release/1.20.0-notes.html#deprecations\n",
      "  max_n_alphas=1000, n_jobs=None, eps=np.finfo(np.float).eps,\n",
      "/home/yichao/dev_tools/miniconda3/envs/ReinventCommunity/lib/python3.7/site-packages/sklearn/linear_model/least_angle.py:1602: DeprecationWarning: `np.float` is a deprecated alias for the builtin `float`. To silence this warning, use `float` by itself. Doing this will not modify any behavior and is safe. If you specifically wanted the numpy scalar type, use `np.float64` here.\n",
      "Deprecated in NumPy 1.20; for more details and guidance: https://numpy.org/devdocs/release/1.20.0-notes.html#deprecations\n",
      "  max_n_alphas=1000, n_jobs=None, eps=np.finfo(np.float).eps,\n",
      "/home/yichao/dev_tools/miniconda3/envs/ReinventCommunity/lib/python3.7/site-packages/sklearn/linear_model/least_angle.py:1738: DeprecationWarning: `np.float` is a deprecated alias for the builtin `float`. To silence this warning, use `float` by itself. Doing this will not modify any behavior and is safe. If you specifically wanted the numpy scalar type, use `np.float64` here.\n",
      "Deprecated in NumPy 1.20; for more details and guidance: https://numpy.org/devdocs/release/1.20.0-notes.html#deprecations\n",
      "  eps=np.finfo(np.float).eps, copy_X=True, positive=False):\n"
     ]
    }
   ],
   "source": [
    "task = Task.get_tasks(project_name='paper', task_name='svm')\n",
    "print(type(task[0].artifacts.get('pred').get()))\n",
    "print(type(task[0].artifacts.get('ckpt').get()))\n"
   ]
  },
  {
   "cell_type": "code",
   "execution_count": 34,
   "id": "a10d1536",
   "metadata": {},
   "outputs": [
    {
     "name": "stderr",
     "output_type": "stream",
     "text": [
      "/home/yichao/dev_tools/miniconda3/envs/ReinventCommunity/lib/python3.7/site-packages/sklearn/decomposition/online_lda.py:29: DeprecationWarning: `np.float` is a deprecated alias for the builtin `float`. To silence this warning, use `float` by itself. Doing this will not modify any behavior and is safe. If you specifically wanted the numpy scalar type, use `np.float64` here.\n",
      "Deprecated in NumPy 1.20; for more details and guidance: https://numpy.org/devdocs/release/1.20.0-notes.html#deprecations\n",
      "  EPS = np.finfo(np.float).eps\n",
      "/home/yichao/dev_tools/miniconda3/envs/ReinventCommunity/lib/python3.7/importlib/_bootstrap.py:219: RuntimeWarning:\n",
      "\n",
      "numpy.ufunc size changed, may indicate binary incompatibility. Expected 192 from C header, got 216 from PyObject\n",
      "\n"
     ]
    },
    {
     "name": "stdout",
     "output_type": "stream",
     "text": [
      "train_fps\n",
      " [[ 7  0  3 ...  0  0  0]\n",
      " [ 6  2  3 ...  0  0  0]\n",
      " [10  0  2 ...  0  0  0]\n",
      " ...\n",
      " [11  2  3 ...  0  0  0]\n",
      " [ 6  0  2 ...  0  0  0]\n",
      " [10  1  2 ...  0  0  0]]\n"
     ]
    }
   ],
   "source": [
    "# 整合SVM训练 批量训练\n",
    "import os\n",
    "import pandas as pd\n",
    "import numpy as np\n",
    "import random\n",
    "import pickle\n",
    "import sklearn.ensemble\n",
    "from sklearn import svm\n",
    "from sklearn.model_selection import train_test_split\n",
    "import ipdb\n",
    "import sys\n",
    "import io\n",
    "import contextlib\n",
    "\n",
    "from sklearn.metrics import roc_auc_score, mean_squared_error\n",
    "\n",
    "from rdkit import Chem, DataStructs\n",
    "from rdkit.Chem import AllChem, MACCSkeys, PandasTools\n",
    "from rdkit.Avalon import pyAvalonTools\n",
    "from rdkit.Chem.Draw import IPythonConsole\n",
    "from IPython.core.display import display, HTML\n",
    "\n",
    "from shutil import copyfile\n",
    "\n",
    "import matplotlib.pyplot as plt\n",
    "import seaborn as sns\n",
    "from clearml import Task, Dataset\n",
    "import argparse\n",
    "\n",
    "# set plotting parameters\n",
    "large = 22; med = 16; small = 12\n",
    "params = {'axes.titlesize': large,\n",
    "          'legend.fontsize': med,\n",
    "          'figure.figsize': (16, 10),\n",
    "          'axes.labelsize': med,\n",
    "          'axes.titlesize': med,\n",
    "          'xtick.labelsize': med,\n",
    "          'ytick.labelsize': med,\n",
    "          'figure.titlesize': large}\n",
    "plt.rcParams.update(params)\n",
    "plt.style.use('seaborn-whitegrid')\n",
    "sns.set_style(\"white\")\n",
    "\n",
    "def smiles_to_mols(query_smiles):\n",
    "    mols = []\n",
    "    # ipdb.set_trace()\n",
    "\n",
    "        # Open a file for writing the output\n",
    "    with open(\"smile_ouput.txt\", 'w') as file:\n",
    "    #     # Redirect standard output to the file\n",
    "    #     original_stdout = sys.stdout\n",
    "    #     sys.stdout = file\n",
    "        with contextlib.redirect_stdout(file), contextlib.redirect_stderr(file):\n",
    "\n",
    "            for smile in query_smiles:\n",
    "                try: \n",
    "                    print(\"processing smiles: \", smile)\n",
    "                    mols.append(Chem.MolFromSmiles(smile))\n",
    "                except Exception as e:\n",
    "                    print(\"Invalid SMILES: \", smile)\n",
    "                    print(\"Error:\", str(e))\n",
    "                    file.flush()  \n",
    "\n",
    "            # # Reset standard output to original\n",
    "            # sys.stdout = original_stdout\n",
    "\n",
    "#         # Write the captured output to a file\n",
    "#         with open(\"smile_ouput.txt\", 'w') as file:\n",
    "#             file.write(output_buffer.getvalue())\n",
    "#             file.write(error_buffer.getvalue())\n",
    "\n",
    "\n",
    "#         # Close the StringIO object\n",
    "#         output_buffer.close()    \n",
    "#         error_buffer.close()\n",
    "    \n",
    "    # mols = [Chem.MolFromSmiles(smile) for smile in query_smiles]\n",
    "    valid = [0 if mol is None else 1 for mol in mols]\n",
    "    valid_idxs = [idx for idx, boolean in enumerate(valid) if boolean == 1]\n",
    "    valid_mols = [mols[idx] for idx in valid_idxs]\n",
    "    return valid_mols, valid_idxs\n",
    "\n",
    "\n",
    "class Descriptors:\n",
    "\n",
    "    def __init__(self, data):\n",
    "        self._data = data\n",
    "\n",
    "    def ECFP(self, radius, nBits):\n",
    "        fingerprints = []\n",
    "        mols, idx = smiles_to_mols(self._data)\n",
    "        fp_bits = [AllChem.GetMorganFingerprintAsBitVect(mol, radius, nBits) for mol in mols]\n",
    "        for fp in fp_bits:\n",
    "            fp_np = np.zeros((1, nBits), dtype=np.int32)\n",
    "            DataStructs.ConvertToNumpyArray(fp, fp_np)\n",
    "            fingerprints.append(fp_np)\n",
    "        return fingerprints, idx\n",
    "\n",
    "    def ECFP_counts(self, radius, useFeatures, useCounts=True):\n",
    "        mols, valid_idx = smiles_to_mols(self._data)\n",
    "        fps = [AllChem.GetMorganFingerprint(mol, radius, useCounts=useCounts, useFeatures=useFeatures) for mol in mols]\n",
    "        size = 2048\n",
    "        nfp = np.zeros((len(fps), size), np.int32)\n",
    "        for i, fp in enumerate(fps):\n",
    "            for idx, v in fp.GetNonzeroElements().items():\n",
    "                nidx = idx % size\n",
    "                nfp[i, nidx] += int(v)\n",
    "        return nfp, valid_idx\n",
    "\n",
    "    def Avalon(self, nBits):\n",
    "        mols, valid_idx = smiles_to_mols(self._data)\n",
    "        fingerprints = []\n",
    "        fps = [pyAvalonTools.GetAvalonFP(mol, nBits=nBits) for mol in mols]\n",
    "        for fp in fps:\n",
    "            fp_np = np.zeros((1, nBits), dtype=np.int32)\n",
    "            DataStructs.ConvertToNumpyArray(fp, fp_np)\n",
    "            fingerprints.append(fp_np)\n",
    "        return fingerprints, valid_idx\n",
    "\n",
    "    def MACCS_keys(self):\n",
    "        mols, valid_idx = smiles_to_mols(self._data)\n",
    "        fingerprints = []\n",
    "        fps = [MACCSkeys.GenMACCSKeys(mol) for mol in mols]\n",
    "        for fp in fps:\n",
    "            fp_np = np.zeros((1, ), dtype=np.int32)\n",
    "            DataStructs.ConvertToNumpyArray(fp, fp_np)\n",
    "            fingerprints.append(fp_np)\n",
    "        return fingerprints, valid_idx\n",
    "\n",
    "def get_ECFP6_counts(inp):\n",
    "    if not isinstance(inp, list):\n",
    "        inp = list(inp)\n",
    "    desc = Descriptors(inp)\n",
    "    fps, _ = desc.ECFP_counts(radius=3, useFeatures=True, useCounts=True)\n",
    "    return fps\n",
    "\n",
    "train_fps = get_ECFP6_counts(train[\"SMILES\"])\n",
    "print('train_fps\\n', train_fps)"
   ]
  },
  {
   "cell_type": "code",
   "execution_count": 36,
   "id": "91fcbfb9",
   "metadata": {},
   "outputs": [
    {
     "name": "stdout",
     "output_type": "stream",
     "text": [
      "0.9980597014925373\n"
     ]
    },
    {
     "name": "stderr",
     "output_type": "stream",
     "text": [
      "/home/yichao/dev_tools/miniconda3/envs/ReinventCommunity/lib/python3.7/site-packages/sklearn/linear_model/base.py:291: DeprecationWarning:\n",
      "\n",
      "`np.int` is a deprecated alias for the builtin `int`. To silence this warning, use `int` by itself. Doing this will not modify any behavior and is safe. When replacing `np.int`, you may wish to use e.g. `np.int64` or `np.int32` to specify the precision. If you wish to review your current use, check the release note link for additional information.\n",
      "Deprecated in NumPy 1.20; for more details and guidance: https://numpy.org/devdocs/release/1.20.0-notes.html#deprecations\n",
      "\n"
     ]
    }
   ],
   "source": [
    "svm = task[0].artifacts.get('ckpt').get()\n",
    "y_pred = svm.predict(X=train_fps)\n",
    "test_score = roc_auc_score(y_true=train[\"AV_Bit\"], y_score=y_pred)\n",
    "print(test_score)"
   ]
  },
  {
   "cell_type": "code",
   "execution_count": null,
   "id": "95468de8",
   "metadata": {},
   "outputs": [],
   "source": []
  }
 ],
 "metadata": {
  "kernelspec": {
   "display_name": "Python 3 (ipykernel)",
   "language": "python",
   "name": "python3"
  },
  "language_info": {
   "codemirror_mode": {
    "name": "ipython",
    "version": 3
   },
   "file_extension": ".py",
   "mimetype": "text/x-python",
   "name": "python",
   "nbconvert_exporter": "python",
   "pygments_lexer": "ipython3",
   "version": "3.7.6"
  }
 },
 "nbformat": 4,
 "nbformat_minor": 5
}
